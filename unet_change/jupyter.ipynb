{
 "cells": [
  {
   "cell_type": "code",
   "execution_count": 1,
   "metadata": {},
   "outputs": [],
   "source": [
    "import numpy as np\n",
    "from PIL import Image\n",
    "import matplotlib.pyplot as plt\n",
    "import os\n",
    "import numpy as np\n",
    "import time\n",
    "import seaborn as sns\n",
    "import matplotlib.pyplot as plt\n",
    "import numpy as np\n",
    "import os\n",
    "from tqdm import tqdm\n",
    "import img"
   ]
  },
  {
   "cell_type": "code",
   "execution_count": null,
   "metadata": {},
   "outputs": [],
   "source": [
    "test_input=np.load(r'D:\\Download\\project\\output\\size_32\\mixcase\\test\\input.npy')\n",
    "train_input=np.load(r'D:\\Download\\project\\output\\size_32\\mixcase\\train\\input.npy')\n",
    "\n",
    "img_size=32\n",
    "#输出文件夹\n",
    "train_output_path = \"output/size_\"+str(img_size)+ \"/mixcase\" + '/train/'\n",
    "test_output_path = \"output/size_\"+str(img_size)+ \"/mixcase\" + '/test/'\n",
    "\n",
    "tr_in_p=train_output_path+'input_color_img/'\n",
    "te_in_p=test_output_path+'input_color_img/'\n",
    "if not os.path.exists(tr_in_p):\n",
    "    os.makedirs(tr_in_p)  \n",
    "if not os.path.exists(te_in_p):\n",
    "    os.makedirs(te_in_p)  \n",
    "    \n",
    "img.npy2jpg(train_input,tr_in_p)\n",
    "img.npy2jpg(test_input,te_in_p)\n"
   ]
  }
 ],
 "metadata": {
  "kernelspec": {
   "display_name": "Python 3",
   "language": "python",
   "name": "python3"
  },
  "language_info": {
   "codemirror_mode": {
    "name": "ipython",
    "version": 3
   },
   "file_extension": ".py",
   "mimetype": "text/x-python",
   "name": "python",
   "nbconvert_exporter": "python",
   "pygments_lexer": "ipython3",
   "version": "3.9.13 (tags/v3.9.13:6de2ca5, May 17 2022, 16:36:42) [MSC v.1929 64 bit (AMD64)]"
  },
  "orig_nbformat": 4,
  "vscode": {
   "interpreter": {
    "hash": "6fff98fc3b3d81bd655c2cc48858186e4d9e2db7b515bf1c3221888f12a62f87"
   }
  }
 },
 "nbformat": 4,
 "nbformat_minor": 2
}
